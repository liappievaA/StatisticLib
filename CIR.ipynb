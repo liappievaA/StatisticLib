{
 "cells": [
  {
   "cell_type": "markdown",
   "metadata": {},
   "source": [
    "# Cox-Ingersoll-Ross(CIR) model(1985).\n",
    "Моделируем краткосрочные процентные ставки в виде СДУ:\n",
    "$$\n",
    "    dr_t = \\kappa(\\theta  - r_t)dt + \\sigma\\sqrt{r_t}dW_t, \\quad r_0 = r > 0 \\, ,\n",
    "$$\n",
    "где \n",
    "1. $r_t$ - процентная ставка\n",
    "2. $\\kappa > 0$ - скорость возврата к среднему\n",
    "3. $\\theta > 0$ - среднее значение процентной ставки\n",
    "4. $\\sigma > 0$ - волатильность\n",
    "5. $W_t$ - винеровский процесс.\\\n",
    "Заметим, что это модель является гомогенной(коэффиценты явно не зависят от времени) и однофакторной. Тогда решение(слабое) этого уравнения существует и единственное в $(0, \\infty)$ по теореме Engelbert-Schmidt, и также, по тесту Феллера, при $2\\kappa \\theta \\geqslant \\sigma^2$ решение не достигает нуля и всегда положительно."
   ]
  },
  {
   "cell_type": "markdown",
   "metadata": {},
   "source": [
    "Этот процесс относится к так называемым affine models вида:\n",
    "$$\n",
    "    dr_t = (\\hat{\\phi}  - \\hat{\\kappa} r_t)dt + \\sqrt{\\delta_1 + \\delta_2r_t}d\\hat{W_t} \\, ,\n",
    "$$\n",
    "где $\\hat{}$ означает risk-adjusted (т.е. уже относительно риск-нейтральной меры). Также для этих моделей просто выражается уравнение Феймана-Каца:\n",
    "$$\n",
    "    \\begin{cases}\n",
    "        \\frac{\\partial P}{\\partial t}(r, t)+(\\hat{\\phi}  - \\hat{\\kappa} r) \\frac{\\partial P}{\\partial r}(r, t)+\\frac{1}{2}(\\delta_1 + \\delta_2r)\\frac{\\partial^2 P}{\\partial r^2}(r, t) - rP(r, t)=0, (r, t) \\in [0, T] \\\\\n",
    "        P(r, T)=H(r), r \\in S\n",
    "    \n",
    "    \\end{cases} \\, .\n",
    "$$"
   ]
  },
  {
   "cell_type": "markdown",
   "metadata": {},
   "source": [
    "Известно, что аналитического решения этой системы не сущестует, и необходимо пользоваться разностными схемами или Монте-Карло."
   ]
  },
  {
   "cell_type": "markdown",
   "metadata": {},
   "source": [
    "Также известно, что формула распределения имеет вид:\n",
    "$$\n",
    "f(r, t) = \\frac{2\\kappa\\theta}{\\sigma^2} \\left(\\frac{r}{\\theta}\\right)^{\\kappa-\\frac{1}{2}} e^{-\\kappa t} I_{\\kappa-\\frac{1}{2}}\\left(2\\sqrt{\\kappa\\theta r}\\right) \\, ,\n",
    "$$\n",
    "где $I_{\\kappa-\\frac{1}{2}}$ - модифицированная функция Бесселя первого рода с порядком $\\kappa-\\frac{1}{2}$. При этом приращения следуют нецентральному $\\chi^2$-распределению со степенью свободы  и параметром нецентральности."
   ]
  },
  {
   "cell_type": "markdown",
   "metadata": {},
   "source": [
    "### Th 1.\n",
    "В афинной модели цена zero-coupon bond можно выразить как \n",
    "$$\n",
    "B^T(r, t)=e^{-a(T-t)-b(T-t) r}\n",
    "$$ где функции $a(\\tau)$ и $b(\\tau)$ удовлетворяют системе дифф-ов:\n",
    "\n",
    "$$\n",
    "\\begin{cases}\n",
    "\\frac{1}{2} \\delta_2 b^2(\\tau)+\\hat{\\kappa} b(\\tau)+b^{\\prime}(\\tau)-1=0, \\tau>0 \\\\\n",
    "a^{\\prime}(\\tau)-\\hat{\\phi} b(\\tau)+\\frac{1}{2} \\delta_1 b^2(\\tau)=0, \\tau>0\n",
    "\\end{cases} \\\\\n",
    "b(0) = a(0) = 0\n",
    "$$\n"
   ]
  },
  {
   "cell_type": "markdown",
   "metadata": {},
   "source": []
  }
 ],
 "metadata": {
  "kernelspec": {
   "display_name": "Python 3",
   "language": "python",
   "name": "python3"
  },
  "language_info": {
   "codemirror_mode": {
    "name": "ipython",
    "version": 3
   },
   "file_extension": ".py",
   "mimetype": "text/x-python",
   "name": "python",
   "nbconvert_exporter": "python",
   "pygments_lexer": "ipython3",
   "version": "3.11.4"
  }
 },
 "nbformat": 4,
 "nbformat_minor": 2
}
